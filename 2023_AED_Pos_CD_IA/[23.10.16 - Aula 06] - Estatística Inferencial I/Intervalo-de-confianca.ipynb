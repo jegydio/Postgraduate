{
 "cells": [
  {
   "cell_type": "markdown",
   "metadata": {},
   "source": [
    "# Intervalos de Confiança"
   ]
  },
  {
   "cell_type": "markdown",
   "metadata": {},
   "source": [
    "Francisco A. Rodrigues, University of São Paulo.<br> \n",
    "https://sites.icmc.usp.br/francisco<br>\n",
    "francisco@icmc.usp.br"
   ]
  },
  {
   "cell_type": "markdown",
   "metadata": {},
   "source": [
    "Esse notebook é relacionado à aula: \n",
    "https://www.youtube.com/watch?v=AkmyfLc-EOs"
   ]
  },
  {
   "cell_type": "markdown",
   "metadata": {},
   "source": [
    "Podemos interpretaro intervalo de confiança de $(1-\\alpha)100\\%$ através de simulações. "
   ]
  },
  {
   "cell_type": "code",
   "execution_count": 11,
   "metadata": {},
   "outputs": [
    {
     "data": {
      "image/png": "[encoded data removed]",
      "text/plain": [
       "<Figure size 1008x720 with 1 Axes>"
      ]
     },
     "metadata": {
      "needs_background": "light"
     },
     "output_type": "display_data"
    },
    {
     "name": "stdout",
     "output_type": "stream",
     "text": [
      "Nível de confiança: 0.95\n",
      "Fraçao de intervalos que contém a média: 0.94\n"
     ]
    }
   ],
   "source": [
    "import numpy as np\n",
    "import matplotlib.pyplot as plt\n",
    "\n",
    "n = 50 # tamanho da amostra\n",
    "Ns = 100 # numero de intervalos\n",
    "mu = 2 # media populacional\n",
    "sigma = 2 # desvio padrão populacional\n",
    "beta = 0.95 # nivel de confianca\n",
    "zalpha = 1.96 # valor de z (a partir de beta)\n",
    "c = 0 # conta o numero de intervalos que contem a media\n",
    "plt.figure(figsize=(14,10))\n",
    "for s in range(1,Ns):\n",
    "    x = np.random.normal(mu, sigma, n) # sorteia uma amostra de tamanho n\n",
    "    IC1 = np.mean(x) - zalpha*sigma/np.sqrt(n) #intervalo inferior\n",
    "    IC2 = np.mean(x) + zalpha*sigma/np.sqrt(n) #intervalo superior\n",
    "    if(mu > IC1 and mu < IC2):\n",
    "        c =  c + 1\n",
    "        # mostra o intervalo em cinza se continar a media\n",
    "        plt.vlines(s, ymin=IC1, ymax=IC2, color = 'gray')\n",
    "        plt.plot(s,np.mean(x), 'o', color = 'gray', \n",
    "                 markersize=5)\n",
    "    else:\n",
    "        # mostra o intervalo que nao contem a media\n",
    "        plt.vlines(s, ymin=IC1, ymax=IC2, color = 'black', linestyles = 'dashed')\n",
    "        plt.plot(s,np.mean(x), 'o', color = 'black',\n",
    "                 markersize=5)\n",
    "plt.axhline(y = mu, color = 'black') # mostra a media populacional\n",
    "plt.xlabel('Amostra', fontsize=20)\n",
    "plt.show()\n",
    "print('Nível de confiança:', beta)\n",
    "print('Fraçao de intervalos que contém a média:', c/Ns)"
   ]
  },
  {
   "cell_type": "markdown",
   "metadata": {},
   "source": [
    "## Calculo do Intervalo de confiança"
   ]
  },
  {
   "cell_type": "markdown",
   "metadata": {},
   "source": [
    "Podemos implementar uma função para calcular o intervalo de confiança automaticamente. "
   ]
  },
  {
   "cell_type": "code",
   "execution_count": 23,
   "metadata": {},
   "outputs": [],
   "source": [
    "import scipy.stats\n",
    "import numpy as np\n",
    "\n",
    "def confident_interval(Xs, n, confidence = 0.95, sigma = -1, s = -1):\n",
    "    zalpha = abs(scipy.stats.norm.ppf((1 - confidence)/2.))\n",
    "    if(sigma != -1): # se a variancia eh conhecida\n",
    "        IC1 = Xs - zalpha*sigma/np.sqrt(n)\n",
    "        IC2 = Xs + zalpha*sigma/np.sqrt(n)\n",
    "    else: # se a variancia eh desconhecida\n",
    "        if(n >= 50): # se o tamanho da amostra eh maior do que 50\n",
    "            # Usa a distribuicao normal\n",
    "            IC1 = Xs - zalpha*s/np.sqrt(n)\n",
    "            IC2 = Xs + zalpha*s/np.sqrt(n)\n",
    "        else: # se o tamanho da amostra eh menor do que 50\n",
    "            # Usa a distribuicao t de Student\n",
    "            talpha = scipy.stats.t.ppf((1 + confidence) / 2., n-1)\n",
    "            IC1 = Xs - talpha*s/np.sqrt(n)\n",
    "            IC2 = Xs + talpha*s/np.sqrt(n)\n",
    "    return [IC1, IC2]"
   ]
  },
  {
   "cell_type": "markdown",
   "metadata": {},
   "source": [
    "**Exemplo**: Em uma empresa de distribuição de alimentos pela internet, verificou-se que o tempo necessário para uma entrega tem distribuição normal com média $\\mu = 30$ minutos e desvio padrão $\\sigma = 10$ minutos. Em uma amostra de 50 entregadores, observou-se um tempo médio de entrega $\\bar{X}_{50} = 25$ minutos. Determine o intervalo de 95\\% de confiança para a média $\\mu$ de todos os entregadores da empresa."
   ]
  },
  {
   "cell_type": "code",
   "execution_count": 24,
   "metadata": {},
   "outputs": [
    {
     "name": "stdout",
     "output_type": "stream",
     "text": [
      "Confidence interval: [22.228192351300645, 27.771807648699355]\n"
     ]
    }
   ],
   "source": [
    "Xs = 25\n",
    "n = 50\n",
    "confidence =0.95\n",
    "sigma = 10\n",
    "IC = confident_interval(Xs,n, confidence, sigma)\n",
    "print('Confidence interval:', IC)"
   ]
  },
  {
   "cell_type": "markdown",
   "metadata": {},
   "source": [
    "**Exemplo** Em um provedor de videos na Internet, verificou-se que para uma amostra de 15 usuários, o tempo médio de exibição é igual a $\\bar{X}_{15} = 39,3$ minutos e o desvio padrão da amostra $S_{15} = 2,6$ minutos. Encontre um intervalo de 90\\% para a média populacional $\\mu$."
   ]
  },
  {
   "cell_type": "code",
   "execution_count": 20,
   "metadata": {},
   "outputs": [
    {
     "name": "stdout",
     "output_type": "stream",
     "text": [
      "Confidence interval: [38.117602363950525, 40.48239763604947]\n"
     ]
    }
   ],
   "source": [
    "Xs = 39.3\n",
    "s = 2.6\n",
    "n = 15\n",
    "confidence =0.9\n",
    "\n",
    "IC = confident_interval(Xs,n, confidence, -1, s)\n",
    "print('Confidence interval:', IC)"
   ]
  },
  {
   "cell_type": "markdown",
   "metadata": {},
   "source": [
    "Para um conjunto de dados, temos a função abaixo."
   ]
  },
  {
   "cell_type": "code",
   "execution_count": 7,
   "metadata": {},
   "outputs": [],
   "source": [
    "import scipy.stats\n",
    "import numpy as np\n",
    "\n",
    "def confident_interval_data(X, confidence = 0.95, sigma = -1):\n",
    "    def S(X): #funcao para calcular o desvio padrao amostral\n",
    "        s = 0\n",
    "        for i in range(0,len(X)):\n",
    "            s = s + (X[i] - np.mean(X))**2\n",
    "        s = np.sqrt(s/(len(X)-1))\n",
    "        return s\n",
    "    n = len(X) # numero de elementos na amostra\n",
    "    Xs = np.mean(X) # media amostral\n",
    "    s = S(X) # desvio padrao amostral\n",
    "    zalpha = abs(scipy.stats.norm.ppf((1 - confidence)/2))\n",
    "    if(sigma != -1): # se a variancia eh conhecida\n",
    "        IC1 = Xs - zalpha*sigma/np.sqrt(n)\n",
    "        IC2 = Xs + zalpha*sigma/np.sqrt(n)\n",
    "    else: # se a variancia eh desconhecida\n",
    "        if(n >= 50): # se o tamanho da amostra eh maior do que 50\n",
    "            # Usa a distribuicao normal\n",
    "            IC1 = Xs - zalpha*s/np.sqrt(n)\n",
    "            IC2 = Xs + zalpha*s/np.sqrt(n)\n",
    "        else: # se o tamanho da amostra eh menor do que 50\n",
    "            # Usa a distribuicao t de Student\n",
    "            talpha = scipy.stats.t.ppf((1 + confidence) / 2., n-1)\n",
    "            IC1 = Xs - talpha*s/np.sqrt(n)\n",
    "            IC2 = Xs + talpha*s/np.sqrt(n)\n",
    "    return [IC1, IC2]"
   ]
  },
  {
   "cell_type": "markdown",
   "metadata": {},
   "source": [
    "Executando para um exemplo."
   ]
  },
  {
   "cell_type": "code",
   "execution_count": 21,
   "metadata": {},
   "outputs": [
    {
     "name": "stdout",
     "output_type": "stream",
     "text": [
      "Confidence interval: [1.0367568385224393, 4.9632431614775605]\n"
     ]
    }
   ],
   "source": [
    "X = [1, 2, 3, 4, 5]\n",
    "confidence = 0.95\n",
    "\n",
    "IC = confident_interval_data(X, confidence)\n",
    "print('Confidence interval:', IC)"
   ]
  }
 ],
 "metadata": {
  "kernelspec": {
   "display_name": "Python 3",
   "language": "python",
   "name": "python3"
  },
  "language_info": {
   "codemirror_mode": {
    "name": "ipython",
    "version": 3
   },
   "file_extension": ".py",
   "mimetype": "text/x-python",
   "name": "python",
   "nbconvert_exporter": "python",
   "pygments_lexer": "ipython3",
   "version": "3.7.4"
  }
 },
 "nbformat": 4,
 "nbformat_minor": 2
}
