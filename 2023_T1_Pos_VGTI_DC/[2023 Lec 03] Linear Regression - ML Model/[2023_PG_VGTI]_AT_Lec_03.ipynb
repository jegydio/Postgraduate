{
  "nbformat": 4,
  "nbformat_minor": 0,
  "metadata": {
    "colab": {
      "provenance": [],
      "toc_visible": true
    },
    "kernelspec": {
      "name": "python3",
      "display_name": "Python 3"
    },
    "language_info": {
      "name": "python"
    }
  },
  "cells": [
    {
      "cell_type": "markdown",
      "source": [
        "# **Pós-Graduação: Visão Global da Tecnologia da Informação.**\n",
        "## **Ciência de Dados e Aplicações**\n",
        "## Prof. Jones E. Egydio\n",
        "\n",
        "> https://www.linkedin.com/in/jones-egydio-msc-3300359\n",
        "\n",
        "> http://lattes.cnpq.br/7379006374125031\n",
        "\n",
        "e-mail: jones.egydio@maua.br\n"
      ],
      "metadata": {
        "id": "Lm17sRRoOXiO"
      }
    },
    {
      "cell_type": "markdown",
      "source": [
        "# Aula 03 - 05/06/2023\n",
        "\n",
        "**Regressão Linear**\n",
        "\n",
        "**ATIVIDADE**\n",
        "\n",
        "*Entrega até: 11/06/2023*\n"
      ],
      "metadata": {
        "id": "C5KAp4TyPye_"
      }
    },
    {
      "cell_type": "markdown",
      "source": [
        "# Setup Python"
      ],
      "metadata": {
        "id": "wX0amwT9ZXB1"
      }
    },
    {
      "cell_type": "code",
      "execution_count": null,
      "metadata": {
        "id": "uXbz4jqUOVbY"
      },
      "outputs": [],
      "source": [
        "# Import das Bibliotecas\n",
        "import numpy as np  # Importa a biblioteca NumPy para operações numéricas eficientes\n",
        "import matplotlib.pyplot as plt  # Importa a biblioteca Matplotlib para visualização de dados\n",
        "from sklearn.linear_model import LinearRegression"
      ]
    },
    {
      "cell_type": "code",
      "source": [
        "# Define uma semente randômica\n",
        "np.random.seed(42)  # Define a semente aleatória para reproduzibilidade dos resultados"
      ],
      "metadata": {
        "id": "REWtN-zzGH2G"
      },
      "execution_count": null,
      "outputs": []
    },
    {
      "cell_type": "markdown",
      "source": [
        "# EX01"
      ],
      "metadata": {
        "id": "8aWRD4AHgmAC"
      }
    },
    {
      "cell_type": "markdown",
      "source": [
        "(Montgomery e Runger) O arquivo **\"vinhos.csv\"** contém dados sobre o teste de sabor\n",
        "de 38 marcas de vinho pinot noir. A variável resposta é y = qualidade, e desejamos encontrar\n",
        "a melhor equação de regressão que relaciona a qualidade aos outros parâmetros.\n",
        "Crie um modelo de regressão linear múltipla com 3 regressores (variáveis independentes)\n",
        "e avalie a qualidade do ajuste. Em seguida, insira mais um regressor e verifique\n",
        "se o ajuste melhorou de forma significativa."
      ],
      "metadata": {
        "id": "DP_MKAH8Y_nJ"
      }
    },
    {
      "cell_type": "code",
      "source": [
        "# Seu código aqui"
      ],
      "metadata": {
        "id": "P0Fm9kWbZTvf"
      },
      "execution_count": null,
      "outputs": []
    },
    {
      "cell_type": "markdown",
      "source": [
        "# EX02"
      ],
      "metadata": {
        "id": "PeIAK955q2af"
      }
    },
    {
      "cell_type": "markdown",
      "source": [
        "O arquivo **\"auto-mpg-pre-proc2.csv\"** contém uma versão previamente tratada de um\n",
        "banco de dados clássico sobre automóveis comercializados nos Estados Unidos (para\n",
        "conhecer o contexto histórico dos dados e/ou obter o conjunto de dados original, acesse\n",
        "o endereço: https://archive.ics.uci.edu/ml/datasets/Auto+MPG). \n",
        "\n",
        "O nome, natureza (parcial)\n",
        "e significado das variáveis disponíveis são os seguintes:\n",
        "\n",
        "* ***mpg*** (contínua): consumo (em milhas por galão) em ciclo urbano.\n",
        "* ***cylinders*** (discreta): número de cilindros do motor (de 4 a 8).\n",
        "* ***displacement*** (contínua): capacidade volumétrica do motor, em polegadas3.\n",
        "* ***horsepower*** (contínua): potência do motor, em HP.\n",
        "* ***weight*** (contínua): peso do veículo, em libras.\n",
        "* ***acceleration*** (contínua): tempo (em s) gasto na aceleração de 0 a 60 mph.\n",
        "8 model year (discreta): ano inicial de fabricação (módulo 100).\n",
        "* ***origin*** (discreta): origem do veículo.\n",
        "* ***car name*** (discreta): identificação (única) do automóvel.\n",
        "\n",
        "Treine um modelo de regressão linear múltipla que relacione o consumo dos veículos\n",
        "com as variáveis quantitativas adequadas e verifique a qualidade geral do ajuste."
      ],
      "metadata": {
        "id": "UaP1zW-dZkD-"
      }
    },
    {
      "cell_type": "code",
      "source": [
        "# Seu código aqui"
      ],
      "metadata": {
        "id": "MbrJJy5kaTvc"
      },
      "execution_count": null,
      "outputs": []
    },
    {
      "cell_type": "markdown",
      "source": [
        "# Links importantes:\n",
        "\n",
        "* [Sklearn Linear Models](https://scikit-learn.org/stable/modules/linear_model.html)\n",
        "* [Regressão Linear Simples - UNIVESP](https://www.youtube.com/watch?v=dJrn2Uww254)\n",
        "* [Regressão Linear Múltipla - UNIVESP](https://www.youtube.com/watch?v=oYvfZqifrEc)\n"
      ],
      "metadata": {
        "id": "pkc_81Tgo8NS"
      }
    },
    {
      "cell_type": "markdown",
      "source": [
        "# Referências Bibliográficas\n",
        "\n",
        "* BRUCE, P., BRUNCE, A., Estatística Prática para Cientistas de Dados, Alta Books, São Paulo, 2019;\n",
        "\n",
        "* PEREIRA, W., Notas de Aula - Machine Learning Métodos não-probabilísticos, 2022;\n",
        "\n",
        "* MARCHESE, R. M., Notas de Aula - ADA, São Paulo, 2023. Disponível em: <https://github.com/renatapink/DS_Hypera_960/tree/main> \n"
      ],
      "metadata": {
        "id": "R_Q2IK5vqP6D"
      }
    },
    {
      "cell_type": "code",
      "source": [],
      "metadata": {
        "id": "5Acue9cZEefp"
      },
      "execution_count": null,
      "outputs": []
    }
  ]
}