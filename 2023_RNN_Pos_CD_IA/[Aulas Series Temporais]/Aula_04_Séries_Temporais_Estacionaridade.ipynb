{
  "nbformat": 4,
  "nbformat_minor": 0,
  "metadata": {
    "colab": {
      "provenance": []
    },
    "kernelspec": {
      "name": "python3",
      "display_name": "Python 3"
    },
    "language_info": {
      "name": "python"
    }
  },
  "cells": [
    {
      "cell_type": "markdown",
      "source": [
        "# Aula 04 - Séries Temporais\n",
        "\n",
        "# Estacionariedade\n",
        "\n",
        "### Prof. Dr. Vitor Alex Oliveira Alves"
      ],
      "metadata": {
        "id": "4qV3gz2_6JCF"
      }
    },
    {
      "cell_type": "markdown",
      "source": [
        "# Séries Temporais e Processos Estocásticos\n",
        "\n",
        "A sequência de variáveis ​​aleatórias $\\{Y_t : t = 0, ±1, ±2, ±3, \\cdots\\}$ é chamada de *processo estocástico* e serve como modelo para uma série temporal observada.\n",
        "\n",
        "Sabe-se que a estrutura probabilística completa de tal processo é determinada pelo conjunto de distribuições de todas as coleções finitas dos $Y'$s. Felizmente, não teremos que lidar explicitamente com essas distribuições multivariadas.\n",
        "\n",
        "Muitas das informações nessas distribuições conjuntas podem ser descritas em termos de médias, variâncias e covariâncias, os chamados primeiro e segundo momentos das distribuições. Se as distribuições conjuntas dos $Y'$s forem\n",
        "distribuições normais multivariadas, então o primeiro e segundo momentos determinam completamente todas as distribuições conjuntas."
      ],
      "metadata": {
        "id": "Bm2Wey-98QX3"
      }
    },
    {
      "cell_type": "markdown",
      "source": [
        "# Médias, Variâncias e Covariâncias\n",
        "\n",
        "Para um processo estocástico $\\{Y_t : t = 0, ±1, ±2, ±3, \\cdots\\}$, a *função média* é definida por\n",
        "\n",
        "$$\\mu_t=E(Y_t), \\text{para } t=0,\\pm1,\\pm2,\\cdots$$\n",
        "\n",
        "Ou seja, $\\mu_t$ é apenas o valor esperado do processo no instante $t$. Em geral, $\\mu_t$ pode assumir valores diferentes em cada instante de tempo.\n",
        "\n",
        "A *função de autocovariância* $\\gamma_{t,s}$ é definida por\n",
        "\n",
        "$$\\gamma_{t,s}=Cov(Y_t,Y_s)=E[(Y_t-\\mu_t)(Y_s-\\mu_s)]=E(Y_tY_s)-\\mu_t\\mu_s,\\text{para } t=0,\\pm1,\\pm2,\\cdots$$\n",
        "\n",
        "A *função de autocorrelação* $\\rho_{t,s}$ (já vista na aula passada) também assume a forma\n",
        "\n",
        "$$\\rho_{t,s}=Corr(Y_t,Y_s)=\\frac{Cov(Y_t,Y_s)}{\\sqrt{Var(Y_t)Var(Y_s)}}=\\frac{\\gamma_{t,s}}{\\sqrt{\\gamma_{t,t}\\gamma_{s,s}}}, \\text{para } t=0,\\pm1,\\pm2,\\cdots$$\n",
        "\n",
        "As seguintes propriedades são decorrentes das definições anteriores:\n",
        "\n",
        "$$\\gamma_{t,t}=Var(Y_t)\\\\\\gamma_{t,s}=\\gamma_{s,t}\\\\\\vert\\gamma_{t,s}\\vert\\leq\\sqrt{\\gamma_{t,t}\\gamma_{s,s}}\\\\\\rho_{t,t}=1\\\\\\rho_{t,s}=\\rho_{s,t}\\\\\\vert\\rho_{t,s}\\vert\\leq 1$$\n",
        "\n",
        "Valores de $\\rho_{t,s}$ próximos de $\\pm1$ indicam forte dependência (linear) e valores próximos de zero indicam fraca dependência (linear). Se $\\rho_{t,s}=0$, dizemos que $Y_t$ e $Y_s$ são processos descorrelacionados."
      ],
      "metadata": {
        "id": "bMqVv6mHBKGk"
      }
    },
    {
      "cell_type": "markdown",
      "source": [
        "# Estacionariedade\n",
        "\n",
        "Para fazer inferências estatísticas sobre a estrutura de um processo estocástico com base em um registro observado desse processo, geralmente devemos fazer algumas hipóteses simplificadoras (presumivelmente\n",
        "razoáveis) sobre essa estrutura. A mais importante de tais hipóteses é a da *estacionariedade*.\n",
        "\n",
        "A ideia básica da estacionariedade consiste em que as leis de probabilidade que governam o comportamento do processo não mudam ao longo do tempo. De certo modo, o processo está em \"equilíbrio estatístico\".\n",
        "\n",
        "Especificamente, um processo ${Y_t}$ é dito *estritamente estacionário*\n",
        "se a distribuição conjunta de $Y_{t_1}, Y_{t_2},\\cdots,Y_{t_n}$for igual à distribuição conjunta de $Y_{t_1-k}, Y_{t_2-k},\\cdots, Y_{t_n-k}$\n",
        "para todas as escolhas de pontos de tempo $t_1, t_2,\\cdots, t_n$ e todas as escolhas de tempo atraso $k$.\n",
        "\n",
        "Uma definição similar, embora matematicamente mais fraca, é a seguinte:\n",
        "\n",
        "**Definição:** Um processo estocástico ${Y_t}$ é dito *fracamente estacionário* ou *estacionário de segunda ordem* se:\n",
        "\n",
        "* A função média é constante ao longo do tempo\n",
        "* $\\gamma_{t,t-k}=\\gamma_{0,k}$ para todo tempo $t$ e todo atraso $k$\n"
      ],
      "metadata": {
        "id": "STWTYN6KGE0_"
      }
    },
    {
      "cell_type": "markdown",
      "metadata": {
        "id": "a96WELzFA98V"
      },
      "source": [
        "# Testes de Estacionariedade\n",
        "\n",
        "Vamos criar séries temporais aleatórias e aplicar testes de hipótese para verificar a properiedade da estacionariedade."
      ]
    },
    {
      "cell_type": "code",
      "metadata": {
        "id": "A5yMS5nI9uYM"
      },
      "source": [
        "# Importação das bibliotecas\n",
        "import numpy as np\n",
        "import pandas as pd\n",
        "import matplotlib.pyplot as plt"
      ],
      "execution_count": 1,
      "outputs": []
    },
    {
      "cell_type": "code",
      "metadata": {
        "id": "cAJTcWNL4A9U"
      },
      "source": [
        "# Padronização do tamanho das figuras\n",
        "from matplotlib.pylab import rcParams\n",
        "rcParams['figure.figsize'] = 15, 5"
      ],
      "execution_count": 10,
      "outputs": []
    },
    {
      "cell_type": "code",
      "metadata": {
        "id": "oQUGy6Fx-iza",
        "colab": {
          "base_uri": "https://localhost:8080/",
          "height": 362
        },
        "outputId": "28abef4b-4d98-40dc-9274-cd55688ddf8f"
      },
      "source": [
        "# Criação da série temporal - Pandas DataFrame\n",
        "np.random.seed(10)\n",
        "data1 = np.random.normal(0, 1, 41)\n",
        "print(data1)\n",
        "df_data1 = pd.DataFrame(data1)\n",
        "print(f'\\nFormato dos dados = {df_data1.shape}')\n",
        "df_data1.columns = ['valores']\n",
        "df_data1.head()"
      ],
      "execution_count": 7,
      "outputs": [
        {
          "output_type": "stream",
          "name": "stdout",
          "text": [
            "[ 1.3315865   0.71527897 -1.54540029 -0.00838385  0.62133597 -0.72008556\n",
            "  0.26551159  0.10854853  0.00429143 -0.17460021  0.43302619  1.20303737\n",
            " -0.96506567  1.02827408  0.22863013  0.44513761 -1.13660221  0.13513688\n",
            "  1.484537   -1.07980489 -1.97772828 -1.7433723   0.26607016  2.38496733\n",
            "  1.12369125  1.67262221  0.09914922  1.39799638 -0.27124799  0.61320418\n",
            " -0.26731719 -0.54930901  0.1327083  -0.47614201  1.30847308  0.19501328\n",
            "  0.40020999 -0.33763234  1.25647226 -0.7319695   0.66023155]\n",
            "\n",
            "Formato dos dados = (41, 1)\n"
          ]
        },
        {
          "output_type": "execute_result",
          "data": {
            "text/plain": [
              "    valores\n",
              "0  1.331587\n",
              "1  0.715279\n",
              "2 -1.545400\n",
              "3 -0.008384\n",
              "4  0.621336"
            ],
            "text/html": [
              "\n",
              "  <div id=\"df-e3b19b2d-e5dd-493b-b183-393c218fbbc4\">\n",
              "    <div class=\"colab-df-container\">\n",
              "      <div>\n",
              "<style scoped>\n",
              "    .dataframe tbody tr th:only-of-type {\n",
              "        vertical-align: middle;\n",
              "    }\n",
              "\n",
              "    .dataframe tbody tr th {\n",
              "        vertical-align: top;\n",
              "    }\n",
              "\n",
              "    .dataframe thead th {\n",
              "        text-align: right;\n",
              "    }\n",
              "</style>\n",
              "<table border=\"1\" class=\"dataframe\">\n",
              "  <thead>\n",
              "    <tr style=\"text-align: right;\">\n",
              "      <th></th>\n",
              "      <th>valores</th>\n",
              "    </tr>\n",
              "  </thead>\n",
              "  <tbody>\n",
              "    <tr>\n",
              "      <th>0</th>\n",
              "      <td>1.331587</td>\n",
              "    </tr>\n",
              "    <tr>\n",
              "      <th>1</th>\n",
              "      <td>0.715279</td>\n",
              "    </tr>\n",
              "    <tr>\n",
              "      <th>2</th>\n",
              "      <td>-1.545400</td>\n",
              "    </tr>\n",
              "    <tr>\n",
              "      <th>3</th>\n",
              "      <td>-0.008384</td>\n",
              "    </tr>\n",
              "    <tr>\n",
              "      <th>4</th>\n",
              "      <td>0.621336</td>\n",
              "    </tr>\n",
              "  </tbody>\n",
              "</table>\n",
              "</div>\n",
              "      <button class=\"colab-df-convert\" onclick=\"convertToInteractive('df-e3b19b2d-e5dd-493b-b183-393c218fbbc4')\"\n",
              "              title=\"Convert this dataframe to an interactive table.\"\n",
              "              style=\"display:none;\">\n",
              "        \n",
              "  <svg xmlns=\"http://www.w3.org/2000/svg\" height=\"24px\"viewBox=\"0 0 24 24\"\n",
              "       width=\"24px\">\n",
              "    <path d=\"M0 0h24v24H0V0z\" fill=\"none\"/>\n",
              "    <path d=\"M18.56 5.44l.94 2.06.94-2.06 2.06-.94-2.06-.94-.94-2.06-.94 2.06-2.06.94zm-11 1L8.5 8.5l.94-2.06 2.06-.94-2.06-.94L8.5 2.5l-.94 2.06-2.06.94zm10 10l.94 2.06.94-2.06 2.06-.94-2.06-.94-.94-2.06-.94 2.06-2.06.94z\"/><path d=\"M17.41 7.96l-1.37-1.37c-.4-.4-.92-.59-1.43-.59-.52 0-1.04.2-1.43.59L10.3 9.45l-7.72 7.72c-.78.78-.78 2.05 0 2.83L4 21.41c.39.39.9.59 1.41.59.51 0 1.02-.2 1.41-.59l7.78-7.78 2.81-2.81c.8-.78.8-2.07 0-2.86zM5.41 20L4 18.59l7.72-7.72 1.47 1.35L5.41 20z\"/>\n",
              "  </svg>\n",
              "      </button>\n",
              "      \n",
              "  <style>\n",
              "    .colab-df-container {\n",
              "      display:flex;\n",
              "      flex-wrap:wrap;\n",
              "      gap: 12px;\n",
              "    }\n",
              "\n",
              "    .colab-df-convert {\n",
              "      background-color: #E8F0FE;\n",
              "      border: none;\n",
              "      border-radius: 50%;\n",
              "      cursor: pointer;\n",
              "      display: none;\n",
              "      fill: #1967D2;\n",
              "      height: 32px;\n",
              "      padding: 0 0 0 0;\n",
              "      width: 32px;\n",
              "    }\n",
              "\n",
              "    .colab-df-convert:hover {\n",
              "      background-color: #E2EBFA;\n",
              "      box-shadow: 0px 1px 2px rgba(60, 64, 67, 0.3), 0px 1px 3px 1px rgba(60, 64, 67, 0.15);\n",
              "      fill: #174EA6;\n",
              "    }\n",
              "\n",
              "    [theme=dark] .colab-df-convert {\n",
              "      background-color: #3B4455;\n",
              "      fill: #D2E3FC;\n",
              "    }\n",
              "\n",
              "    [theme=dark] .colab-df-convert:hover {\n",
              "      background-color: #434B5C;\n",
              "      box-shadow: 0px 1px 3px 1px rgba(0, 0, 0, 0.15);\n",
              "      filter: drop-shadow(0px 1px 2px rgba(0, 0, 0, 0.3));\n",
              "      fill: #FFFFFF;\n",
              "    }\n",
              "  </style>\n",
              "\n",
              "      <script>\n",
              "        const buttonEl =\n",
              "          document.querySelector('#df-e3b19b2d-e5dd-493b-b183-393c218fbbc4 button.colab-df-convert');\n",
              "        buttonEl.style.display =\n",
              "          google.colab.kernel.accessAllowed ? 'block' : 'none';\n",
              "\n",
              "        async function convertToInteractive(key) {\n",
              "          const element = document.querySelector('#df-e3b19b2d-e5dd-493b-b183-393c218fbbc4');\n",
              "          const dataTable =\n",
              "            await google.colab.kernel.invokeFunction('convertToInteractive',\n",
              "                                                     [key], {});\n",
              "          if (!dataTable) return;\n",
              "\n",
              "          const docLinkHtml = 'Like what you see? Visit the ' +\n",
              "            '<a target=\"_blank\" href=https://colab.research.google.com/notebooks/data_table.ipynb>data table notebook</a>'\n",
              "            + ' to learn more about interactive tables.';\n",
              "          element.innerHTML = '';\n",
              "          dataTable['output_type'] = 'display_data';\n",
              "          await google.colab.output.renderOutput(dataTable, element);\n",
              "          const docLink = document.createElement('div');\n",
              "          docLink.innerHTML = docLinkHtml;\n",
              "          element.appendChild(docLink);\n",
              "        }\n",
              "      </script>\n",
              "    </div>\n",
              "  </div>\n",
              "  "
            ]
          },
          "metadata": {},
          "execution_count": 7
        }
      ]
    },
    {
      "cell_type": "code",
      "metadata": {
        "id": "AjPCXBmZVxBH",
        "colab": {
          "base_uri": "https://localhost:8080/",
          "height": 653
        },
        "outputId": "b2b8324a-e5d2-4e8c-bb8e-b908e2127263"
      },
      "source": [
        "# Criação das estampas temporais\n",
        "indice = pd.date_range('1980', periods=len(df_data1), freq='Y')\n",
        "print(indice)\n",
        "# Criação da série temnporal - Pandas Series\n",
        "serie_data1 = pd.Series(df_data1['valores'].values, index=indice)\n",
        "# Visualização da série\n",
        "serie_data1.plot()\n",
        "plt.show()"
      ],
      "execution_count": 11,
      "outputs": [
        {
          "output_type": "stream",
          "name": "stdout",
          "text": [
            "DatetimeIndex(['1980-12-31', '1981-12-31', '1982-12-31', '1983-12-31',\n",
            "               '1984-12-31', '1985-12-31', '1986-12-31', '1987-12-31',\n",
            "               '1988-12-31', '1989-12-31', '1990-12-31', '1991-12-31',\n",
            "               '1992-12-31', '1993-12-31', '1994-12-31', '1995-12-31',\n",
            "               '1996-12-31', '1997-12-31', '1998-12-31', '1999-12-31',\n",
            "               '2000-12-31', '2001-12-31', '2002-12-31', '2003-12-31',\n",
            "               '2004-12-31', '2005-12-31', '2006-12-31', '2007-12-31',\n",
            "               '2008-12-31', '2009-12-31', '2010-12-31', '2011-12-31',\n",
            "               '2012-12-31', '2013-12-31', '2014-12-31', '2015-12-31',\n",
            "               '2016-12-31', '2017-12-31', '2018-12-31', '2019-12-31',\n",
            "               '2020-12-31'],\n",
            "              dtype='datetime64[ns]', freq='A-DEC')\n"
          ]
        },
        {
          "output_type": "display_data",
          "data": {
            "text/plain": [
              "<Figure size 1500x500 with 1 Axes>"
            ],
            "image/png": "[encoded data removed]"
          },
          "metadata": {}
        }
      ]
    },
    {
      "cell_type": "markdown",
      "metadata": {
        "id": "UZNnc5ISTVzb"
      },
      "source": [
        "# Teste KPSS\n",
        "\n",
        "O teste KPSS, abreviação de Kwiatkowski-Phillips-Schmidt-Shin, é um tipo de teste de raiz unitária que testa a estacionariedade de uma determinada série em torno de uma tendência determinística.\n",
        "\n",
        "Nesse teste, temos:\n",
        "\n",
        "* $H_0:$ O processo não é estacionário\n",
        "* $H_a:$ O processo é estacionário\n",
        "\n",
        "A saída do teste KPSS é uma tupla com 4 elementos:\n",
        "\n",
        "* Estatística KPSS\n",
        "* valor-p\n",
        "* Número de atrasos (*lags*) usados ​​pelo teste\n",
        "* Valores críticos, aos níveis de significvância de 1%, 2,5%, 5% e 10%\n",
        "\n",
        "O valor-p relatado pelo teste é a pontuação de probabilidade com base na qual decidimos se rejeitamos ou não a hipótese nula. Se o valor-p for menor que um nível $\\alpha$ predefinido (normalmente 0,05), aceitamos a hipótese nula.\n",
        "\n",
        "A estatística KPSS é a estatística de teste real que é calculada durante a execução do teste. Para aceitarmos a hipótese nula, a estatística de teste deve ser maior que os valores críticos fornecidos. Se for de fato maior que o valor crítico alvo, isso deve refletir automaticamente em um valor-p baixo.\n",
        "\n",
        "Ou seja, se o valor p for menor que 0,05, a estatística KPSS será maior que o valor crítico de 5%.\n",
        "\n",
        "Por fim, o número de defasagens informado pela função é o número de defasagens da série que foi efetivamente utilizada pela equação do modelo do teste KPSS.\n",
        "\n",
        "Em resumo:\n",
        "\n",
        "**$H_0:$ O processo não é estacionário: estatística do teste > valor crítico**\n",
        "\n",
        "**$H_a:$ O processo é estacionário:  estatística do teste < valor crítico**"
      ]
    },
    {
      "cell_type": "code",
      "metadata": {
        "id": "BroK95iwDHRD",
        "colab": {
          "base_uri": "https://localhost:8080/"
        },
        "outputId": "db61a9f3-aa25-473c-8cd2-e25069e94f7c"
      },
      "source": [
        "import statsmodels.tsa.stattools\n",
        "import warnings\n",
        "warnings.filterwarnings('ignore')\n",
        "\n",
        "# Teste KPSS\n",
        "kpss = statsmodels.tsa.stattools.kpss(serie_data1)\n",
        "print('*** Teste KPSS ***')\n",
        "print('Estatística do teste: {:.4f}'.format(kpss[0]))\n",
        "print('p_valor: {:.4f}'.format(kpss[1]))\n",
        "print('número de lags: {}'.format(kpss[2]))\n",
        "print('Valores Críticos:')\n",
        "for chave, valor in kpss[3].items():\n",
        "   print('{}: {:.4f}'.format(chave, valor))\n",
        "if kpss[0] > kpss[3]['5%']:\n",
        "  print('CONCLUSÃO: Processo NÃO Estacionário ao nível de significância de 5%')\n",
        "else:\n",
        "  print('CONCLUSÃO: Processo Estacionário ao nível de significância de 5%')\n"
      ],
      "execution_count": 25,
      "outputs": [
        {
          "output_type": "stream",
          "name": "stdout",
          "text": [
            "*** Teste KPSS ***\n",
            "Estatítica do teste: 0.0686\n",
            "p_valor: 0.1000\n",
            "número de lags: 0\n",
            "Valores Críticos:\n",
            "10%: 0.3470\n",
            "5%: 0.4630\n",
            "2.5%: 0.5740\n",
            "1%: 0.7390\n",
            "CONCLUSÃO: Processo Estacionário ao nível de significâmcia de 5%\n"
          ]
        }
      ]
    },
    {
      "cell_type": "markdown",
      "metadata": {
        "id": "RkwJo0JXG8OS"
      },
      "source": [
        "# Teste DF\n",
        "\n",
        "Uma outra maneira de testar se uma série temporal é estacionária é realizar um teste de Dickey-Fuller aumentado, que usa as seguintes hipóteses nula e alternativa:\n",
        "\n",
        "* $H_0:$ A série temporal não é estacionária. Em outras palavras, a série possui alguma estrutura interna dependente do tempo.\n",
        "* $H_a:$ A série temporal é estacionária.\n",
        "\n",
        "Se o valor-p do teste for menor que algum nível de significância (por exemplo, $\\alpha=0,05$), podemos rejeitar a hipótese nula e concluir que a série temporal é estacionária. Ou seja:\n",
        "\n",
        "**$H_0:$ O processo não é estacionário: estatística do teste > valor crítico**\n",
        "\n",
        "**$H_a:$ O processo é estacionário:  estatística do teste < valor crítico**\n",
        "\n",
        "O retorno do teste DF é similar àquele descrito para o teste KPSS."
      ]
    },
    {
      "cell_type": "code",
      "metadata": {
        "colab": {
          "base_uri": "https://localhost:8080/"
        },
        "id": "t_gLO7xYSD8f",
        "outputId": "d4c33803-8705-4f03-943b-7711b315891d"
      },
      "source": [
        "# Teste DF\n",
        "teste_df = statsmodels.tsa.stattools.adfuller(serie_data1)\n",
        "print('*** Teste DF ***')\n",
        "print('Estatística do teste: {:.4f}'.format(teste_df[0]))\n",
        "print('p_valor: {:.8f}'.format(teste_df[1]))\n",
        "print('Valores Críticos:')\n",
        "for chave, valor in teste_df[4].items():\n",
        "   print('{}: {:.4f}'.format(chave, valor))\n",
        "if teste_df[0] > teste_df[4]['5%']:\n",
        "  print('CONCLUSÃO: Processo NÃO Estacionário ao nível de significância de 5%')\n",
        "else:\n",
        "  print('CONCLUSÃO: Processo Estacionário ao nível de significância de 5%')"
      ],
      "execution_count": 30,
      "outputs": [
        {
          "output_type": "stream",
          "name": "stdout",
          "text": [
            "*** Teste DF ***\n",
            "Estatística do teste: -5.8642\n",
            "p_valor: 0.00000034\n",
            "Valores Críticos:\n",
            "1%: -3.6056\n",
            "5%: -2.9371\n",
            "10%: -2.6070\n",
            "CONCLUSÃO: Processo Estacionário ao nível de significâmcia de 5%\n"
          ]
        }
      ]
    },
    {
      "cell_type": "markdown",
      "metadata": {
        "id": "4IrWlHqMW3hj"
      },
      "source": [
        "# Outro exemplo - Total mensal de passageiros\n",
        "\n",
        "Vamos examinar a estacionariedade da série temporal que registra o total de passageiros em companhias áereas internacionais de 1949 a 1960. Os dados estão contidos no arquivo AirPassengers.csv."
      ]
    },
    {
      "cell_type": "code",
      "source": [
        "from google.colab import drive\n",
        "drive.mount('/content/drive')"
      ],
      "metadata": {
        "colab": {
          "base_uri": "https://localhost:8080/"
        },
        "id": "bni9L80fYW3L",
        "outputId": "9cadd29c-2d35-4068-e23f-23a445c78c8e"
      },
      "execution_count": 31,
      "outputs": [
        {
          "output_type": "stream",
          "name": "stdout",
          "text": [
            "Mounted at /content/drive\n"
          ]
        }
      ]
    },
    {
      "cell_type": "code",
      "metadata": {
        "id": "3347scLeXDlZ",
        "colab": {
          "base_uri": "https://localhost:8080/",
          "height": 206
        },
        "outputId": "ea1a3bcc-32cd-45a3-b764-a0c20418f6bf"
      },
      "source": [
        "# Leitura do arquivo\n",
        "aereo = pd.read_csv('/content/drive/MyDrive/Datasets/AirPassengers.csv')\n",
        "aereo.head()"
      ],
      "execution_count": 32,
      "outputs": [
        {
          "output_type": "execute_result",
          "data": {
            "text/plain": [
              "     Month  #Passengers\n",
              "0  1949-01          112\n",
              "1  1949-02          118\n",
              "2  1949-03          132\n",
              "3  1949-04          129\n",
              "4  1949-05          121"
            ],
            "text/html": [
              "\n",
              "  <div id=\"df-f04153f7-c872-4e27-9baa-c2302783fa96\">\n",
              "    <div class=\"colab-df-container\">\n",
              "      <div>\n",
              "<style scoped>\n",
              "    .dataframe tbody tr th:only-of-type {\n",
              "        vertical-align: middle;\n",
              "    }\n",
              "\n",
              "    .dataframe tbody tr th {\n",
              "        vertical-align: top;\n",
              "    }\n",
              "\n",
              "    .dataframe thead th {\n",
              "        text-align: right;\n",
              "    }\n",
              "</style>\n",
              "<table border=\"1\" class=\"dataframe\">\n",
              "  <thead>\n",
              "    <tr style=\"text-align: right;\">\n",
              "      <th></th>\n",
              "      <th>Month</th>\n",
              "      <th>#Passengers</th>\n",
              "    </tr>\n",
              "  </thead>\n",
              "  <tbody>\n",
              "    <tr>\n",
              "      <th>0</th>\n",
              "      <td>1949-01</td>\n",
              "      <td>112</td>\n",
              "    </tr>\n",
              "    <tr>\n",
              "      <th>1</th>\n",
              "      <td>1949-02</td>\n",
              "      <td>118</td>\n",
              "    </tr>\n",
              "    <tr>\n",
              "      <th>2</th>\n",
              "      <td>1949-03</td>\n",
              "      <td>132</td>\n",
              "    </tr>\n",
              "    <tr>\n",
              "      <th>3</th>\n",
              "      <td>1949-04</td>\n",
              "      <td>129</td>\n",
              "    </tr>\n",
              "    <tr>\n",
              "      <th>4</th>\n",
              "      <td>1949-05</td>\n",
              "      <td>121</td>\n",
              "    </tr>\n",
              "  </tbody>\n",
              "</table>\n",
              "</div>\n",
              "      <button class=\"colab-df-convert\" onclick=\"convertToInteractive('df-f04153f7-c872-4e27-9baa-c2302783fa96')\"\n",
              "              title=\"Convert this dataframe to an interactive table.\"\n",
              "              style=\"display:none;\">\n",
              "        \n",
              "  <svg xmlns=\"http://www.w3.org/2000/svg\" height=\"24px\"viewBox=\"0 0 24 24\"\n",
              "       width=\"24px\">\n",
              "    <path d=\"M0 0h24v24H0V0z\" fill=\"none\"/>\n",
              "    <path d=\"M18.56 5.44l.94 2.06.94-2.06 2.06-.94-2.06-.94-.94-2.06-.94 2.06-2.06.94zm-11 1L8.5 8.5l.94-2.06 2.06-.94-2.06-.94L8.5 2.5l-.94 2.06-2.06.94zm10 10l.94 2.06.94-2.06 2.06-.94-2.06-.94-.94-2.06-.94 2.06-2.06.94z\"/><path d=\"M17.41 7.96l-1.37-1.37c-.4-.4-.92-.59-1.43-.59-.52 0-1.04.2-1.43.59L10.3 9.45l-7.72 7.72c-.78.78-.78 2.05 0 2.83L4 21.41c.39.39.9.59 1.41.59.51 0 1.02-.2 1.41-.59l7.78-7.78 2.81-2.81c.8-.78.8-2.07 0-2.86zM5.41 20L4 18.59l7.72-7.72 1.47 1.35L5.41 20z\"/>\n",
              "  </svg>\n",
              "      </button>\n",
              "      \n",
              "  <style>\n",
              "    .colab-df-container {\n",
              "      display:flex;\n",
              "      flex-wrap:wrap;\n",
              "      gap: 12px;\n",
              "    }\n",
              "\n",
              "    .colab-df-convert {\n",
              "      background-color: #E8F0FE;\n",
              "      border: none;\n",
              "      border-radius: 50%;\n",
              "      cursor: pointer;\n",
              "      display: none;\n",
              "      fill: #1967D2;\n",
              "      height: 32px;\n",
              "      padding: 0 0 0 0;\n",
              "      width: 32px;\n",
              "    }\n",
              "\n",
              "    .colab-df-convert:hover {\n",
              "      background-color: #E2EBFA;\n",
              "      box-shadow: 0px 1px 2px rgba(60, 64, 67, 0.3), 0px 1px 3px 1px rgba(60, 64, 67, 0.15);\n",
              "      fill: #174EA6;\n",
              "    }\n",
              "\n",
              "    [theme=dark] .colab-df-convert {\n",
              "      background-color: #3B4455;\n",
              "      fill: #D2E3FC;\n",
              "    }\n",
              "\n",
              "    [theme=dark] .colab-df-convert:hover {\n",
              "      background-color: #434B5C;\n",
              "      box-shadow: 0px 1px 3px 1px rgba(0, 0, 0, 0.15);\n",
              "      filter: drop-shadow(0px 1px 2px rgba(0, 0, 0, 0.3));\n",
              "      fill: #FFFFFF;\n",
              "    }\n",
              "  </style>\n",
              "\n",
              "      <script>\n",
              "        const buttonEl =\n",
              "          document.querySelector('#df-f04153f7-c872-4e27-9baa-c2302783fa96 button.colab-df-convert');\n",
              "        buttonEl.style.display =\n",
              "          google.colab.kernel.accessAllowed ? 'block' : 'none';\n",
              "\n",
              "        async function convertToInteractive(key) {\n",
              "          const element = document.querySelector('#df-f04153f7-c872-4e27-9baa-c2302783fa96');\n",
              "          const dataTable =\n",
              "            await google.colab.kernel.invokeFunction('convertToInteractive',\n",
              "                                                     [key], {});\n",
              "          if (!dataTable) return;\n",
              "\n",
              "          const docLinkHtml = 'Like what you see? Visit the ' +\n",
              "            '<a target=\"_blank\" href=https://colab.research.google.com/notebooks/data_table.ipynb>data table notebook</a>'\n",
              "            + ' to learn more about interactive tables.';\n",
              "          element.innerHTML = '';\n",
              "          dataTable['output_type'] = 'display_data';\n",
              "          await google.colab.output.renderOutput(dataTable, element);\n",
              "          const docLink = document.createElement('div');\n",
              "          docLink.innerHTML = docLinkHtml;\n",
              "          element.appendChild(docLink);\n",
              "        }\n",
              "      </script>\n",
              "    </div>\n",
              "  </div>\n",
              "  "
            ]
          },
          "metadata": {},
          "execution_count": 32
        }
      ]
    },
    {
      "cell_type": "code",
      "metadata": {
        "colab": {
          "base_uri": "https://localhost:8080/",
          "height": 691
        },
        "id": "Co7ssl86X6Lf",
        "outputId": "a927a6f6-3bc1-4075-8e7f-e22762246c54"
      },
      "source": [
        "# Criação da série temporal\n",
        "serie_aereo = pd.Series(aereo['#Passengers'].values, index=aereo['Month'])\n",
        "print(serie_aereo)\n",
        "# Visualização da série\n",
        "serie_aereo.plot()\n",
        "plt.show()"
      ],
      "execution_count": 34,
      "outputs": [
        {
          "output_type": "stream",
          "name": "stdout",
          "text": [
            "Month\n",
            "1949-01    112\n",
            "1949-02    118\n",
            "1949-03    132\n",
            "1949-04    129\n",
            "1949-05    121\n",
            "          ... \n",
            "1960-08    606\n",
            "1960-09    508\n",
            "1960-10    461\n",
            "1960-11    390\n",
            "1960-12    432\n",
            "Length: 144, dtype: int64\n"
          ]
        },
        {
          "output_type": "display_data",
          "data": {
            "text/plain": [
              "<Figure size 1500x500 with 1 Axes>"
            ],
            "image/png": "[encoded data removed]"
          },
          "metadata": {}
        }
      ]
    },
    {
      "cell_type": "markdown",
      "metadata": {
        "id": "g_uDFOAwZQKT"
      },
      "source": [
        "Teste KPSS (Kwiatkowski-Phillips-Schmidt-Shin)\n",
        "\n",
        "**$H_0:$ O processo não é estacionário: estatística do teste > valor crítico**\n",
        "\n",
        "**$H_a:$ O processo é estacionário:  estatística do teste < valor crítico**"
      ]
    },
    {
      "cell_type": "code",
      "source": [
        "# Teste KPSS\n",
        "kpss = statsmodels.tsa.stattools.kpss(serie_aereo)\n",
        "print('*** Teste KPSS ***')\n",
        "print('Estatística do teste: {:.4f}'.format(kpss[0]))\n",
        "print('p_valor: {:.4f}'.format(kpss[1]))\n",
        "print('número de lags: {}'.format(kpss[2]))\n",
        "print('Valores Críticos:')\n",
        "for chave, valor in kpss[3].items():\n",
        "   print('{}: {:.4f}'.format(chave, valor))\n",
        "if kpss[0] > kpss[3]['5%']:\n",
        "  print('CONCLUSÃO: Processo NÃO Estacionário ao nível de significância de 5%')\n",
        "else:\n",
        "  print('CONCLUSÃO: Processo Estacionário ao nível de significância de 5%')"
      ],
      "metadata": {
        "colab": {
          "base_uri": "https://localhost:8080/"
        },
        "id": "Z6ltzaljZU9L",
        "outputId": "84f89a30-1cec-4da8-f0f1-f1c469fa514f"
      },
      "execution_count": 35,
      "outputs": [
        {
          "output_type": "stream",
          "name": "stdout",
          "text": [
            "*** Teste KPSS ***\n",
            "Estatística do teste: 1.6513\n",
            "p_valor: 0.0100\n",
            "número de lags: 8\n",
            "Valores Críticos:\n",
            "10%: 0.3470\n",
            "5%: 0.4630\n",
            "2.5%: 0.5740\n",
            "1%: 0.7390\n",
            "CONCLUSÃO: Processo NÃO Estacionário ao nível de significâmcia de 5%\n"
          ]
        }
      ]
    },
    {
      "cell_type": "markdown",
      "metadata": {
        "id": "3wM7s1QtZQKV"
      },
      "source": [
        "Teste df (Dickey Fuller)\n",
        "\n",
        "**$H_0:$ O processo não é estacionário: estatística do teste > valor crítico**\n",
        "\n",
        "**$H_a:$ O processo é estacionário:  estatística do teste < valor crítico**"
      ]
    },
    {
      "cell_type": "code",
      "source": [
        "# Teste DF\n",
        "teste_df = statsmodels.tsa.stattools.adfuller(serie_aereo)\n",
        "print('*** Teste DF ***')\n",
        "print('Estatística do teste: {:.4f}'.format(teste_df[0]))\n",
        "print('p_valor: {:.8f}'.format(teste_df[1]))\n",
        "print('Valores Críticos:')\n",
        "for chave, valor in teste_df[4].items():\n",
        "   print('{}: {:.4f}'.format(chave, valor))\n",
        "if teste_df[0] > teste_df[4]['5%']:\n",
        "  print('CONCLUSÃO: Processo NÃO Estacionário ao nível de significância de 5%')\n",
        "else:\n",
        "  print('CONCLUSÃO: Processo Estacionário ao nível de significância de 5%')"
      ],
      "metadata": {
        "colab": {
          "base_uri": "https://localhost:8080/"
        },
        "id": "WETUTNPIZvvl",
        "outputId": "1175cdb1-7247-494e-ac08-a86bc1d239b3"
      },
      "execution_count": 38,
      "outputs": [
        {
          "output_type": "stream",
          "name": "stdout",
          "text": [
            "*** Teste DF ***\n",
            "Estatística do teste: 0.8154\n",
            "p_valor: 0.99188024\n",
            "Valores Críticos:\n",
            "1%: -3.4817\n",
            "5%: -2.8840\n",
            "10%: -2.5788\n",
            "CONCLUSÃO: Processo NÃO Estacionário ao nível de significâmcia de 5%\n"
          ]
        }
      ]
    }
  ]
}